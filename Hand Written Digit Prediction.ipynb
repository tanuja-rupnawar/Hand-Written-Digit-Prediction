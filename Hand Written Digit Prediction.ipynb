{
 "cells": [
  {
   "cell_type": "markdown",
   "id": "bb26866c",
   "metadata": {},
   "source": [
    "Hand Written Digit Prediction"
   ]
  },
  {
   "cell_type": "code",
   "execution_count": null,
   "id": "399a5184",
   "metadata": {},
   "outputs": [],
   "source": []
  },
  {
   "cell_type": "markdown",
   "id": "b6b6f9a9",
   "metadata": {},
   "source": [
    "Import Library\n"
   ]
  },
  {
   "cell_type": "code",
   "execution_count": 4,
   "id": "8bab51ab",
   "metadata": {},
   "outputs": [],
   "source": [
    "import pandas as pd"
   ]
  },
  {
   "cell_type": "code",
   "execution_count": 5,
   "id": "bb8261dc",
   "metadata": {},
   "outputs": [],
   "source": [
    "import numpy as np"
   ]
  },
  {
   "cell_type": "code",
   "execution_count": 6,
   "id": "5a845060",
   "metadata": {},
   "outputs": [],
   "source": [
    "import matplotlib.pyplot as plt"
   ]
  },
  {
   "cell_type": "markdown",
   "id": "7170936f",
   "metadata": {},
   "source": [
    "Import Data"
   ]
  },
  {
   "cell_type": "code",
   "execution_count": 7,
   "id": "80fa0034",
   "metadata": {},
   "outputs": [],
   "source": [
    "from sklearn.datasets import load_digits"
   ]
  },
  {
   "cell_type": "code",
   "execution_count": 8,
   "id": "5cf3e207",
   "metadata": {},
   "outputs": [],
   "source": [
    "df = load_digits()"
   ]
  },
  {
   "cell_type": "code",
   "execution_count": 9,
   "id": "837f24e2",
   "metadata": {},
   "outputs": [
    {
     "data": {
      "image/png": "[encoded data removed]",
      "text/plain": [
       "<Figure size 1000x300 with 4 Axes>"
      ]
     },
     "metadata": {},
     "output_type": "display_data"
    }
   ],
   "source": [
    "_, axes = plt.subplots(nrows =1, ncols=4,figsize=(10,3))\n",
    "for ax,image,label in zip(axes,df.images,df.target):\n",
    "    ax.set_axis_off()\n",
    "    ax.imshow(image,cmap=plt.cm.gray_r,interpolation=\"nearest\")\n",
    "    ax.set_title(\"Training: %i\" % label)"
   ]
  },
  {
   "cell_type": "markdown",
   "id": "7e210dc9",
   "metadata": {},
   "source": [
    "Data Preprocessing"
   ]
  },
  {
   "cell_type": "code",
   "execution_count": 10,
   "id": "85cf7602",
   "metadata": {},
   "outputs": [
    {
     "data": {
      "text/plain": [
       "(1797, 8, 8)"
      ]
     },
     "execution_count": 10,
     "metadata": {},
     "output_type": "execute_result"
    }
   ],
   "source": [
    "df.images.shape"
   ]
  },
  {
   "cell_type": "code",
   "execution_count": 11,
   "id": "535b3962",
   "metadata": {},
   "outputs": [
    {
     "data": {
      "text/plain": [
       "array([[ 0.,  0.,  5., 13.,  9.,  1.,  0.,  0.],\n",
       "       [ 0.,  0., 13., 15., 10., 15.,  5.,  0.],\n",
       "       [ 0.,  3., 15.,  2.,  0., 11.,  8.,  0.],\n",
       "       [ 0.,  4., 12.,  0.,  0.,  8.,  8.,  0.],\n",
       "       [ 0.,  5.,  8.,  0.,  0.,  9.,  8.,  0.],\n",
       "       [ 0.,  4., 11.,  0.,  1., 12.,  7.,  0.],\n",
       "       [ 0.,  2., 14.,  5., 10., 12.,  0.,  0.],\n",
       "       [ 0.,  0.,  6., 13., 10.,  0.,  0.,  0.]])"
      ]
     },
     "execution_count": 11,
     "metadata": {},
     "output_type": "execute_result"
    }
   ],
   "source": [
    "df.images[0]"
   ]
  },
  {
   "cell_type": "code",
   "execution_count": 12,
   "id": "4449cd7a",
   "metadata": {},
   "outputs": [
    {
     "data": {
      "text/plain": [
       "(8, 8)"
      ]
     },
     "execution_count": 12,
     "metadata": {},
     "output_type": "execute_result"
    }
   ],
   "source": [
    "df.images[0].shape"
   ]
  },
  {
   "cell_type": "code",
   "execution_count": 13,
   "id": "9fc845fc",
   "metadata": {},
   "outputs": [
    {
     "data": {
      "text/plain": [
       "1797"
      ]
     },
     "execution_count": 13,
     "metadata": {},
     "output_type": "execute_result"
    }
   ],
   "source": [
    "len(df.images)"
   ]
  },
  {
   "cell_type": "code",
   "execution_count": 14,
   "id": "33aec137",
   "metadata": {},
   "outputs": [],
   "source": [
    "n_samples = len(df.images)\n",
    "data = df.images.reshape(n_samples, -1)"
   ]
  },
  {
   "cell_type": "code",
   "execution_count": 15,
   "id": "e892a94a",
   "metadata": {},
   "outputs": [
    {
     "data": {
      "text/plain": [
       "array([ 0.,  0.,  5., 13.,  9.,  1.,  0.,  0.,  0.,  0., 13., 15., 10.,\n",
       "       15.,  5.,  0.,  0.,  3., 15.,  2.,  0., 11.,  8.,  0.,  0.,  4.,\n",
       "       12.,  0.,  0.,  8.,  8.,  0.,  0.,  5.,  8.,  0.,  0.,  9.,  8.,\n",
       "        0.,  0.,  4., 11.,  0.,  1., 12.,  7.,  0.,  0.,  2., 14.,  5.,\n",
       "       10., 12.,  0.,  0.,  0.,  0.,  6., 13., 10.,  0.,  0.,  0.])"
      ]
     },
     "execution_count": 15,
     "metadata": {},
     "output_type": "execute_result"
    }
   ],
   "source": [
    "data[0]"
   ]
  },
  {
   "cell_type": "code",
   "execution_count": 16,
   "id": "bff9ad76",
   "metadata": {},
   "outputs": [
    {
     "data": {
      "text/plain": [
       "(64,)"
      ]
     },
     "execution_count": 16,
     "metadata": {},
     "output_type": "execute_result"
    }
   ],
   "source": [
    "data[0].shape"
   ]
  },
  {
   "cell_type": "code",
   "execution_count": 17,
   "id": "90b386c3",
   "metadata": {},
   "outputs": [
    {
     "data": {
      "text/plain": [
       "(1797, 64)"
      ]
     },
     "execution_count": 17,
     "metadata": {},
     "output_type": "execute_result"
    }
   ],
   "source": [
    "data.shape"
   ]
  },
  {
   "cell_type": "markdown",
   "id": "0ead9f9c",
   "metadata": {},
   "source": [
    "Scaling Image Data"
   ]
  },
  {
   "cell_type": "code",
   "execution_count": 18,
   "id": "d5e2509b",
   "metadata": {},
   "outputs": [
    {
     "data": {
      "text/plain": [
       "0.0"
      ]
     },
     "execution_count": 18,
     "metadata": {},
     "output_type": "execute_result"
    }
   ],
   "source": [
    "data.min()"
   ]
  },
  {
   "cell_type": "code",
   "execution_count": 19,
   "id": "f748c5bc",
   "metadata": {},
   "outputs": [
    {
     "data": {
      "text/plain": [
       "16.0"
      ]
     },
     "execution_count": 19,
     "metadata": {},
     "output_type": "execute_result"
    }
   ],
   "source": [
    "data.max()"
   ]
  },
  {
   "cell_type": "code",
   "execution_count": 20,
   "id": "3359bf61",
   "metadata": {},
   "outputs": [],
   "source": [
    "data = data/16"
   ]
  },
  {
   "cell_type": "code",
   "execution_count": 21,
   "id": "f7038664",
   "metadata": {},
   "outputs": [
    {
     "data": {
      "text/plain": [
       "0.0"
      ]
     },
     "execution_count": 21,
     "metadata": {},
     "output_type": "execute_result"
    }
   ],
   "source": [
    "data.min()"
   ]
  },
  {
   "cell_type": "code",
   "execution_count": 22,
   "id": "857e1347",
   "metadata": {},
   "outputs": [
    {
     "data": {
      "text/plain": [
       "1.0"
      ]
     },
     "execution_count": 22,
     "metadata": {},
     "output_type": "execute_result"
    }
   ],
   "source": [
    "data.max()"
   ]
  },
  {
   "cell_type": "code",
   "execution_count": 23,
   "id": "7468d6ec",
   "metadata": {},
   "outputs": [
    {
     "data": {
      "text/plain": [
       "array([0.    , 0.    , 0.3125, 0.8125, 0.5625, 0.0625, 0.    , 0.    ,\n",
       "       0.    , 0.    , 0.8125, 0.9375, 0.625 , 0.9375, 0.3125, 0.    ,\n",
       "       0.    , 0.1875, 0.9375, 0.125 , 0.    , 0.6875, 0.5   , 0.    ,\n",
       "       0.    , 0.25  , 0.75  , 0.    , 0.    , 0.5   , 0.5   , 0.    ,\n",
       "       0.    , 0.3125, 0.5   , 0.    , 0.    , 0.5625, 0.5   , 0.    ,\n",
       "       0.    , 0.25  , 0.6875, 0.    , 0.0625, 0.75  , 0.4375, 0.    ,\n",
       "       0.    , 0.125 , 0.875 , 0.3125, 0.625 , 0.75  , 0.    , 0.    ,\n",
       "       0.    , 0.    , 0.375 , 0.8125, 0.625 , 0.    , 0.    , 0.    ])"
      ]
     },
     "execution_count": 23,
     "metadata": {},
     "output_type": "execute_result"
    }
   ],
   "source": [
    "data[0]"
   ]
  },
  {
   "cell_type": "markdown",
   "id": "fd0cc0b1",
   "metadata": {},
   "source": [
    "Train Test Split Data"
   ]
  },
  {
   "cell_type": "code",
   "execution_count": 25,
   "id": "3f56703b",
   "metadata": {},
   "outputs": [],
   "source": [
    "from sklearn.model_selection import train_test_split"
   ]
  },
  {
   "cell_type": "code",
   "execution_count": 26,
   "id": "c0bf0db9",
   "metadata": {},
   "outputs": [],
   "source": [
    "x_train, x_test, y_train, y_test = train_test_split(data, df.target, test_size=0.3)"
   ]
  },
  {
   "cell_type": "code",
   "execution_count": 27,
   "id": "3b0e4567",
   "metadata": {},
   "outputs": [
    {
     "data": {
      "text/plain": [
       "((1257, 64), (540, 64), (1257,), (540,))"
      ]
     },
     "execution_count": 27,
     "metadata": {},
     "output_type": "execute_result"
    }
   ],
   "source": [
    "x_train.shape, x_test.shape, y_train.shape, y_test.shape"
   ]
  },
  {
   "cell_type": "markdown",
   "id": "0be21a86",
   "metadata": {},
   "source": [
    "Random Forest Model"
   ]
  },
  {
   "cell_type": "code",
   "execution_count": 28,
   "id": "57abd3af",
   "metadata": {},
   "outputs": [],
   "source": [
    "from sklearn.ensemble import RandomForestClassifier"
   ]
  },
  {
   "cell_type": "code",
   "execution_count": 29,
   "id": "70edfbe4",
   "metadata": {},
   "outputs": [],
   "source": [
    "rf = RandomForestClassifier()"
   ]
  },
  {
   "cell_type": "code",
   "execution_count": 30,
   "id": "8729dc93",
   "metadata": {},
   "outputs": [
    {
     "data": {
      "text/plain": [
       "RandomForestClassifier()"
      ]
     },
     "execution_count": 30,
     "metadata": {},
     "output_type": "execute_result"
    }
   ],
   "source": [
    "rf.fit(x_train, y_train)"
   ]
  },
  {
   "cell_type": "markdown",
   "id": "0b7c6164",
   "metadata": {},
   "source": [
    "Predict Test Data"
   ]
  },
  {
   "cell_type": "code",
   "execution_count": 31,
   "id": "d4abde3d",
   "metadata": {},
   "outputs": [],
   "source": [
    "y_pred = rf.predict(x_test)"
   ]
  },
  {
   "cell_type": "code",
   "execution_count": 32,
   "id": "24255c84",
   "metadata": {},
   "outputs": [
    {
     "data": {
      "text/plain": [
       "array([2, 8, 5, 2, 0, 8, 2, 0, 9, 5, 3, 0, 8, 8, 3, 3, 3, 8, 8, 9, 9, 3,\n",
       "       3, 9, 7, 4, 6, 5, 8, 2, 7, 7, 0, 0, 5, 4, 0, 9, 3, 9, 3, 5, 6, 4,\n",
       "       7, 0, 5, 8, 2, 5, 9, 7, 8, 9, 4, 6, 7, 1, 5, 4, 2, 1, 6, 0, 7, 9,\n",
       "       8, 3, 8, 0, 8, 8, 9, 6, 7, 8, 6, 4, 1, 7, 5, 9, 2, 7, 6, 6, 4, 9,\n",
       "       4, 7, 2, 4, 4, 7, 8, 0, 2, 3, 9, 3, 3, 0, 2, 1, 5, 3, 3, 7, 2, 2,\n",
       "       1, 7, 3, 4, 4, 1, 5, 0, 0, 5, 9, 9, 7, 6, 8, 7, 0, 4, 2, 2, 8, 1,\n",
       "       1, 6, 8, 8, 5, 6, 1, 4, 3, 2, 9, 5, 2, 7, 0, 4, 2, 7, 0, 5, 9, 0,\n",
       "       0, 6, 5, 0, 7, 7, 1, 5, 9, 7, 1, 0, 6, 9, 9, 6, 2, 0, 5, 6, 4, 8,\n",
       "       7, 8, 0, 6, 7, 8, 9, 0, 4, 6, 3, 4, 9, 8, 8, 7, 1, 0, 7, 2, 3, 9,\n",
       "       2, 0, 3, 0, 8, 0, 4, 1, 3, 6, 7, 9, 7, 1, 4, 2, 2, 4, 2, 1, 1, 6,\n",
       "       9, 9, 8, 6, 8, 3, 4, 5, 2, 4, 0, 1, 9, 9, 8, 6, 9, 4, 2, 9, 2, 3,\n",
       "       9, 9, 4, 9, 2, 3, 5, 3, 8, 9, 7, 9, 6, 1, 3, 0, 9, 7, 5, 4, 3, 7,\n",
       "       6, 4, 2, 8, 0, 7, 8, 2, 3, 8, 8, 5, 4, 2, 1, 1, 5, 0, 9, 1, 9, 1,\n",
       "       7, 3, 5, 6, 3, 6, 3, 3, 6, 8, 7, 3, 4, 2, 8, 2, 5, 2, 4, 0, 1, 6,\n",
       "       5, 1, 0, 2, 6, 3, 2, 3, 4, 7, 3, 5, 5, 8, 6, 9, 3, 3, 8, 2, 1, 7,\n",
       "       1, 7, 8, 2, 0, 7, 6, 1, 4, 8, 0, 7, 0, 8, 6, 4, 5, 9, 0, 3, 9, 3,\n",
       "       2, 9, 4, 1, 5, 4, 2, 7, 3, 3, 7, 8, 5, 5, 8, 1, 8, 1, 6, 3, 8, 3,\n",
       "       9, 5, 8, 7, 5, 6, 9, 8, 7, 4, 1, 1, 2, 1, 6, 2, 9, 1, 4, 3, 3, 5,\n",
       "       0, 1, 7, 5, 3, 7, 1, 3, 8, 2, 9, 0, 0, 1, 4, 6, 6, 3, 5, 8, 9, 1,\n",
       "       4, 9, 4, 9, 1, 1, 4, 2, 4, 3, 0, 1, 5, 4, 8, 2, 1, 4, 7, 8, 0, 4,\n",
       "       4, 6, 1, 9, 6, 6, 0, 6, 1, 8, 3, 7, 3, 3, 8, 5, 6, 6, 0, 9, 3, 3,\n",
       "       3, 4, 7, 7, 8, 4, 8, 3, 6, 2, 3, 4, 3, 2, 4, 1, 7, 9, 2, 4, 7, 5,\n",
       "       3, 1, 9, 4, 4, 4, 3, 1, 8, 0, 0, 7, 1, 4, 6, 8, 5, 6, 7, 2, 3, 5,\n",
       "       5, 4, 7, 9, 0, 1, 5, 6, 7, 8, 7, 1, 5, 6, 6, 8, 3, 2, 3, 6, 0, 3,\n",
       "       0, 3, 1, 0, 7, 0, 9, 6, 0, 5, 0, 4])"
      ]
     },
     "execution_count": 32,
     "metadata": {},
     "output_type": "execute_result"
    }
   ],
   "source": [
    "y_pred"
   ]
  },
  {
   "cell_type": "markdown",
   "id": "5db2f236",
   "metadata": {},
   "source": [
    "Model Accuracy"
   ]
  },
  {
   "cell_type": "code",
   "execution_count": 34,
   "id": "8997b8f8",
   "metadata": {},
   "outputs": [],
   "source": [
    "from sklearn.metrics import confusion_matrix,classification_report"
   ]
  },
  {
   "cell_type": "code",
   "execution_count": 35,
   "id": "596fd9ce",
   "metadata": {},
   "outputs": [
    {
     "data": {
      "text/plain": [
       "array([[53,  0,  0,  0,  0,  0,  0,  0,  0,  0],\n",
       "       [ 0, 48,  0,  0,  0,  0,  0,  0,  0,  0],\n",
       "       [ 0,  0, 49,  0,  0,  0,  0,  0,  0,  0],\n",
       "       [ 0,  0,  0, 64,  0,  0,  0,  0,  0,  0],\n",
       "       [ 0,  0,  0,  0, 57,  0,  0,  1,  1,  0],\n",
       "       [ 0,  0,  0,  0,  0, 45,  1,  0,  0,  1],\n",
       "       [ 0,  0,  0,  0,  0,  1, 49,  0,  0,  0],\n",
       "       [ 0,  0,  0,  0,  0,  0,  0, 55,  0,  0],\n",
       "       [ 0,  3,  0,  0,  0,  0,  0,  0, 57,  0],\n",
       "       [ 0,  0,  0,  1,  0,  0,  0,  0,  0, 54]], dtype=int64)"
      ]
     },
     "execution_count": 35,
     "metadata": {},
     "output_type": "execute_result"
    }
   ],
   "source": [
    "confusion_matrix(y_test, y_pred)"
   ]
  },
  {
   "cell_type": "code",
   "execution_count": 36,
   "id": "8999b188",
   "metadata": {},
   "outputs": [
    {
     "name": "stdout",
     "output_type": "stream",
     "text": [
      "              precision    recall  f1-score   support\n",
      "\n",
      "           0       1.00      1.00      1.00        53\n",
      "           1       0.94      1.00      0.97        48\n",
      "           2       1.00      1.00      1.00        49\n",
      "           3       0.98      1.00      0.99        64\n",
      "           4       1.00      0.97      0.98        59\n",
      "           5       0.98      0.96      0.97        47\n",
      "           6       0.98      0.98      0.98        50\n",
      "           7       0.98      1.00      0.99        55\n",
      "           8       0.98      0.95      0.97        60\n",
      "           9       0.98      0.98      0.98        55\n",
      "\n",
      "    accuracy                           0.98       540\n",
      "   macro avg       0.98      0.98      0.98       540\n",
      "weighted avg       0.98      0.98      0.98       540\n",
      "\n"
     ]
    }
   ],
   "source": [
    "print(classification_report(y_test,y_pred))"
   ]
  },
  {
   "cell_type": "code",
   "execution_count": null,
   "id": "3321537f",
   "metadata": {},
   "outputs": [],
   "source": []
  }
 ],
 "metadata": {
  "kernelspec": {
   "display_name": "Python 3 (ipykernel)",
   "language": "python",
   "name": "python3"
  },
  "language_info": {
   "codemirror_mode": {
    "name": "ipython",
    "version": 3
   },
   "file_extension": ".py",
   "mimetype": "text/x-python",
   "name": "python",
   "nbconvert_exporter": "python",
   "pygments_lexer": "ipython3",
   "version": "3.9.13"
  }
 },
 "nbformat": 4,
 "nbformat_minor": 5
}
